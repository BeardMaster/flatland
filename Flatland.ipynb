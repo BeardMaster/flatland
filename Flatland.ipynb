{
  "nbformat": 4,
  "nbformat_minor": 0,
  "metadata": {
    "colab": {
      "provenance": [],
      "gpuType": "T4",
      "collapsed_sections": [
        "TE9I9tMJyWTz"
      ],
      "mount_file_id": "1h1D4bTjE2H8iPdXRsiXtoWAniNFs3J_l",
      "authorship_tag": "ABX9TyPSJq0xqgnPOqyswFfckg3G",
      "include_colab_link": true
    },
    "kernelspec": {
      "name": "python3",
      "display_name": "Python 3"
    },
    "language_info": {
      "name": "python"
    },
    "accelerator": "GPU"
  },
  "cells": [
    {
      "cell_type": "markdown",
      "metadata": {
        "id": "view-in-github",
        "colab_type": "text"
      },
      "source": [
        "<a href=\"https://colab.research.google.com/github/BeardMaster/flatland/blob/main/Flatland.ipynb\" target=\"_parent\"><img src=\"https://colab.research.google.com/assets/colab-badge.svg\" alt=\"Open In Colab\"/></a>"
      ]
    },
    {
      "cell_type": "markdown",
      "source": [
        "# Intro\n",
        "\n"
      ],
      "metadata": {
        "id": "I7RqaR2fkxsk"
      }
    },
    {
      "cell_type": "markdown",
      "source": [
        "It appears that in the data there was bad labling. So I would train the model in a few itterations. After each itteration the model was able to pick out some of the bad labels, which I printed out to see that they ar in fact wrong, and added them to the exclusion list at data loading.\n",
        "\n",
        "Another step I took, is augmentation. I would train them odel ad see where it was having difficulties from the confusion matrix. So then I would generate augemnted (i.e rotated, flipped and scaled) data of the problematic classes, and train the model on this data. Then I would train again on the original training data. This process would be itterated a few times.\n",
        "\n",
        "I am quite sure the model could be shrunk in size, but I didn't have the time."
      ],
      "metadata": {
        "id": "0Z3Au_e7k3sR"
      }
    },
    {
      "cell_type": "markdown",
      "source": [
        "# Package load\n",
        "\n"
      ],
      "metadata": {
        "id": "v4MP02q-ftpP"
      }
    },
    {
      "cell_type": "code",
      "execution_count": 3,
      "metadata": {
        "id": "1EIPc2ggegPz"
      },
      "outputs": [],
      "source": [
        "%matplotlib inline\n",
        "\n",
        "import os\n",
        "import time\n",
        "import numpy as np\n",
        "import pandas as pd\n",
        "import matplotlib.pyplot as plt\n",
        "import tensorflow.keras as keras\n",
        "from tensorflow.keras.layers import Dense, Input, Flatten, Conv2D, BatchNormalization, \\\n",
        "                                    Activation, Dropout, MaxPooling2D\n",
        "from tensorflow.keras.models import Sequential\n",
        "from tensorflow.keras.optimizers import Adam\n",
        "from tensorflow.keras.callbacks import TensorBoard\n",
        "from IPython.display import YouTubeVideo\n",
        "from PIL import Image\n",
        "from sklearn.model_selection import train_test_split\n",
        "import cv2\n",
        "import tensorflow as tf\n",
        "import matplotlib.pyplot as plt\n",
        "from collections import Counter\n",
        "import math\n",
        "from sklearn.metrics import confusion_matrix\n",
        "import seaborn as sns\n",
        "import matplotlib.pyplot as plt\n",
        "from tensorflow.keras.regularizers import l1, l2, l1_l2\n",
        "from tensorflow.keras.layers import ZeroPadding2D\n",
        "\n",
        "import cv2\n",
        "import random\n"
      ]
    },
    {
      "cell_type": "markdown",
      "source": [
        "# Data load"
      ],
      "metadata": {
        "id": "700Fm5nofbGe"
      }
    },
    {
      "cell_type": "code",
      "source": [
        "data = np.load('/content/drive/MyDrive/Colab Notebooks/flatland_train.npz')\n",
        "\n",
        "X = data['X']\n",
        "y = data['y']\n",
        "\n",
        "\n",
        "y[y != 0] -= 2    # Correct labels so that triangle is mapped to class 1\n",
        "X = X / 255.      # Scale down to range [0, 1]\n",
        "\n"
      ],
      "metadata": {
        "id": "J7LAfTQufQEL"
      },
      "execution_count": 280,
      "outputs": []
    },
    {
      "cell_type": "code",
      "source": [
        "i=7107\n",
        "plot(X[i])\n",
        "print(y[i])"
      ],
      "metadata": {
        "colab": {
          "base_uri": "https://localhost:8080/",
          "height": 424
        },
        "id": "6wH5jNsLs_iD",
        "outputId": "d850e574-c3e7-41c4-c01b-f43455f1a398"
      },
      "execution_count": 348,
      "outputs": [
        {
          "output_type": "stream",
          "name": "stdout",
          "text": [
            "3.0\n"
          ]
        },
        {
          "output_type": "display_data",
          "data": {
            "text/plain": [
              "<Figure size 640x480 with 1 Axes>"
            ],
            "image/png": "[encoded data removed]"
          },
          "metadata": {}
        }
      ]
    },
    {
      "cell_type": "markdown",
      "source": [
        "Turns out that some labels were  wrong. These are the ones I picked out after training the model well enough and looking at its errors"
      ],
      "metadata": {
        "id": "cT8O3zewfz1u"
      }
    },
    {
      "cell_type": "code",
      "source": [
        "indices_to_remove=[19, 529, 563, 597, 619, 1403, 1442, 1598, 1748, 1854, 2148, 2226, 2345, 2721, 2748, 3029, 3062, 3357, 3431, 3441, 3798, 3988, 4037, 4068\n",
        " , 4168, 4243, 4402, 4452, 4645, 4659, 4804, 4907, 5083, 5130, 5333, 6131, 6155, 6162, 6317, 6517, 6670, 6942, 7093, 7220, 7490, 7575, 7601, 7655,\n",
        " 7806, 7983, 8068, 8613, 9495, 9664, 9704, 9718, 597, 1238, 1403, 1442, 2105, 2345, 2676, 2978, 3431, 3798, 3988, 4063, 4115, 4243, 4484, 4659, 5056,\n",
        "                   5083, 5130, 5571, 5909, 6222, 6670, 6679, 6942, 7220, 7806, 7956, 8613, 9566, 9664, 597,\n",
        "                   1238, 1403, 1442, 2105, 2345, 2676, 2978, 3431, 3798, 3988, 4063, 4115, 4243, 4484, 4659, 5056, 5083, 5130,\n",
        "                   5571, 5909, 6222, 6670, 6679, 6942, 7220, 7806, 7956, 8613, 9566, 9664, 97, 1238, 1403, 1442, 1474, 2105, 2345, 2676, 2978, 3431, 3798, 3988, 4063, 4115, 4243, 4484, 4659, 5056, 5083, 5130, 5571, 5909, 6222, 6670, 6679, 6942, 7220, 7806, 7956, 8613, 8724, 9566, 9664,\n",
        "679, 1409, 1467, 2226, 2721, 2752, 2813, 3092, 3249, 3441, 3802, 4037, 4273, 4294, 4488, 5333, 5423, 6006, 6162, 6653, 7557, 7575, 7908, 8585, 8631, 8919,\n",
        "                   839,\n",
        "\n",
        "473, 505, 756, 1854, 2183, 2225, 2419, 2601, 2748, 2980, 3143, 3894, 3896, 4025, 4094, 4452, 4645, 4759, 4907, 5034, 5375, 5846, 5859, 5996, 6045, 6068, 6559, 6776, 9089, 9344,\n",
        "597, 1238, 1403, 1442, 1474, 2105, 2345, 2676, 2978, 3431, 3798, 3988, 4063, 4115, 4243, 4484, 4659, 4816, 4980, 5056, 5083, 5130, 5571, 5909, 6222, 6670, 6679, 6942, 7107, 7220, 7806, 7956, 8613, 8724, 9566, 9664,\n",
        "\n",
        "19, 563, 619, 1748, 2148, 3357, 3809, 4068, 4804, 5515, 6131, 6317, 6384, 6517, 7129, 8068, 8189, 9591, 9704,\n",
        "\n",
        "\n",
        "\n",
        "679, 1409, 1467, 2226, 2721, 2752, 2813, 3092, 3249, 3441, 3802, 4037, 4273, 4294, 4488, 5333, 5423, 6006, 6162, 6653, 7557, 7575, 7908, 8585, 8631, 8919, 9839,\n",
        "\n",
        "1598, 3029, 3110, 4168, 4402, 5061, 6155, 7008, 7093, 7338, 7490, 7601, 7655, 7983, 8635, 9197, 9495, 9718\n",
        "]\n",
        "\n",
        "indices_to_remove = np.unique(indices_to_remove)\n",
        "len(indices_to_remove)\n",
        " # Create a mask with True for indices we want to keep\n",
        "mask = np.ones(len(y), dtype=bool)\n",
        "mask[indices_to_remove] = False\n",
        "\n",
        "# Apply the mask\n",
        "X = X[mask]\n",
        "y= y[mask]"
      ],
      "metadata": {
        "id": "-24DrBU_hFhS"
      },
      "execution_count": 302,
      "outputs": []
    },
    {
      "cell_type": "code",
      "source": [
        "X.shape\n",
        "y.shape\n"
      ],
      "metadata": {
        "colab": {
          "base_uri": "https://localhost:8080/"
        },
        "id": "Yszkz-BWVPvK",
        "outputId": "081d951c-62f3-4905-cdd5-0800d5e07306"
      },
      "execution_count": 303,
      "outputs": [
        {
          "output_type": "execute_result",
          "data": {
            "text/plain": [
              "(9866,)"
            ]
          },
          "metadata": {},
          "execution_count": 303
        }
      ]
    },
    {
      "cell_type": "code",
      "source": [],
      "metadata": {
        "id": "xAwdn1KPfXqp"
      },
      "execution_count": 192,
      "outputs": []
    },
    {
      "cell_type": "code",
      "source": [
        "X_train, X_test, y_train, y_test = train_test_split(X, y, test_size=0.2, random_state=42)\n"
      ],
      "metadata": {
        "id": "om9LTziBtXiT"
      },
      "execution_count": 304,
      "outputs": []
    },
    {
      "cell_type": "markdown",
      "source": [
        "The following step lets increase the  sample size for training of agiven category. The data is generated by rotating/flipping the initial data. This is done only for  training data."
      ],
      "metadata": {
        "id": "bEi99BxxgHyy"
      }
    },
    {
      "cell_type": "code",
      "source": [
        "# Specify classes and size of subset\n",
        "classes_of_interest = [ 3, 4]\n",
        "n = 300 # Number of samples to add\n",
        "\n",
        "# Initialize lists for augmented data\n",
        "augmented_images = []\n",
        "augmented_labels = []\n",
        "\n",
        "# Define a small scaling factor\n",
        "scale_factor = 1.01  # For example, a 5% increase in size\n",
        "original_size = 50  # Original image size\n",
        "\n",
        "for class_label in classes_of_interest:\n",
        "    class_indices = np.where(y_train == class_label)[0]\n",
        "    sampled_indices = np.random.choice(class_indices, size=min(n, len(class_indices)), replace=False)\n",
        "\n",
        "    for idx in sampled_indices:\n",
        "        image = X_train[idx]\n",
        "\n",
        "        # Choose a random rotation (90, 180, or 270 degrees)\n",
        "        rotations = [1, 2, 3]  # Corresponding to 90, 180, 270 degrees\n",
        "        k = random.choice(rotations)\n",
        "        rotated_image = np.rot90(image, k)\n",
        "\n",
        "        # Flip image randomly around horizontal or vertical axis\n",
        "        flip_horizontal_or_vertical = random.choice([0, 1])\n",
        "        flipped_image = np.flip(rotated_image, axis=flip_horizontal_or_vertical)\n",
        "\n",
        "        # Scaling the image by a small constant factor\n",
        "        scaled_image = cv2.resize(flipped_image, None, fx=scale_factor, fy=scale_factor, interpolation=cv2.INTER_LINEAR)\n",
        "\n",
        "        # Crop the scaled image to maintain the original size\n",
        "        height, width = scaled_image.shape[:2]\n",
        "        startx = width//2 - original_size//2\n",
        "        starty = height//2 - original_size//2\n",
        "        cropped_image = scaled_image[starty:starty+original_size, startx:startx+original_size]\n",
        "\n",
        "        # Append to the lists\n",
        "        augmented_images.append(cropped_image)\n",
        "        augmented_labels.append(class_label)\n",
        "\n",
        "# Convert lists to NumPy arrays\n",
        "augmented_images = np.array(augmented_images)\n",
        "augmented_labels = np.array(augmented_labels)\n",
        "\n",
        "# Concatenate augmented images and labels to the training dataset\n",
        "\n",
        "\n",
        "X_train_augmented = np.concatenate((X_train, augmented_images), axis=0)\n",
        "y_train_augmented= np.concatenate((y_train, augmented_labels))\n",
        "\n",
        "\n"
      ],
      "metadata": {
        "id": "Si1rxVpx5qqz"
      },
      "execution_count": 343,
      "outputs": []
    },
    {
      "cell_type": "code",
      "source": [
        "# Create a histogram of y values\n",
        "plt.hist(y_train, bins='auto', edgecolor='black', alpha=0.7)\n",
        "plt.title('Histogram of y values')\n",
        "plt.xlabel('Value')\n",
        "plt.ylabel('Frequency')\n",
        "plt.grid(True, which='both', linestyle='--', linewidth=0.5)\n",
        "plt.tight_layout()\n",
        "plt.show()"
      ],
      "metadata": {
        "id": "DAN8IDqSiHHy",
        "colab": {
          "base_uri": "https://localhost:8080/",
          "height": 487
        },
        "outputId": "037297f0-5033-41bd-9801-c57f532e5f7c"
      },
      "execution_count": 14,
      "outputs": [
        {
          "output_type": "display_data",
          "data": {
            "text/plain": [
              "<Figure size 640x480 with 1 Axes>"
            ],
            "image/png": "[encoded data removed]"
          },
          "metadata": {}
        }
      ]
    },
    {
      "cell_type": "code",
      "source": [
        "def plot(X):\n",
        "    plt.imshow(X, cmap='gray', vmin=0, vmax=1)\n",
        "    plt.axis('off')\n",
        "\n",
        "def apply_filter(X, F):\n",
        "    x, y = X.shape\n",
        "    filter_x, filter_y = F.shape\n",
        "    X_with_filter = np.zeros(shape=(x - filter_x, y - filter_y))\n",
        "\n",
        "    for i in range(x - filter_x):\n",
        "        for j in range(y - filter_y):\n",
        "            X_with_filter[i, j] = (X[i:(i+filter_x), j:(j+filter_y)] * F).sum()\n",
        "\n",
        "    return X_with_filter"
      ],
      "metadata": {
        "id": "YXVHWZblinNR"
      },
      "execution_count": 6,
      "outputs": []
    },
    {
      "cell_type": "markdown",
      "source": [
        "# preproc"
      ],
      "metadata": {
        "id": "TE9I9tMJyWTz"
      }
    },
    {
      "cell_type": "markdown",
      "source": [
        "Skip this part I ended up not using it"
      ],
      "metadata": {
        "id": "7oysoRv_g0wE"
      }
    },
    {
      "cell_type": "code",
      "source": [
        "def pad_n(X, n):\n",
        "  padded = np.pad(X, [n, n], mode=\"constant\")\n",
        "  return padded"
      ],
      "metadata": {
        "id": "4mNzz0x_lMkN"
      },
      "execution_count": null,
      "outputs": []
    },
    {
      "cell_type": "code",
      "source": [
        "def sum_disk(M):\n",
        "  X = pad_n(M,3)\n",
        "  x, y = X.shape\n",
        "  X_disk_counted=np.zeros(shape=M.shape)\n",
        "\n",
        "  F = np.array([\n",
        "              [-10, -5, -5, -1, -5, -5, -10],\n",
        "              [-5, -10, 0, 0, 0, -10, -5],\n",
        "              [-5, 0, 10, 10, 10, 0, -5],\n",
        "              [-1, 0, 10, 30, 10, 0, -1],\n",
        "              [-5, 0, 10, 10, 10, 0, -5],\n",
        "              [-5, -10, 0, 0, 0, -10, -5],\n",
        "              [-10, -5, -5, -1, -5, -5, -10]\n",
        "              ])\n",
        "\n",
        "\n",
        "  # print(X.shape)\n",
        "  F_norm=F.sum()\n",
        "  for i in range(3, x - 4):\n",
        "        for j in range(3, y - 4):\n",
        "            X_disk_counted[i-3, j-3] = (X[(i-3):(i+4), (j-3):(j+4)] * F).sum()/F_norm\n",
        "  return X_disk_counted\n",
        "\n"
      ],
      "metadata": {
        "id": "4ToBahM1kBwg"
      },
      "execution_count": null,
      "outputs": []
    },
    {
      "cell_type": "code",
      "source": [
        "def filter(X, k):\n",
        "  return (1/k)*np.where(X<k, X, 0)"
      ],
      "metadata": {
        "id": "hh3uC17qx0KP"
      },
      "execution_count": null,
      "outputs": []
    },
    {
      "cell_type": "code",
      "source": [
        "def numpy_preprocessing(X):\n",
        "  # F = np.array([[-1, -1, -1 , -1],\n",
        "  #             [ -1,  1.5,  1.5, -1],\n",
        "  #             [ -1,  1.5,  1.5, -1],\n",
        "  #             [-1, -1, -1, -1]])\n",
        "  X_proc=np.zeros((X.shape[0], X.shape[1]+12, X.shape[2]+12))\n",
        "  for i in range(len(X)):\n",
        "    # T=apply_filter( np.pad(filter(sum_disk(X[i]), 0.01), ([0,4],[0,4]), mode=\"constant\"), F)\n",
        "    # scale=np.min(T)\n",
        "    # scaled = (1/scale)*T\n",
        "    X_proc[i]= pad_n(X[i],6)\n",
        "  return  X_proc.reshape(X_proc.shape[0], X_proc.shape[1], X_proc.shape[2], 1)\n",
        "  # return  X.reshape(X.shape[0], X.shape[1], X.shape[2], 1)"
      ],
      "metadata": {
        "id": "_e-aRmPf2CPs"
      },
      "execution_count": null,
      "outputs": []
    },
    {
      "cell_type": "code",
      "source": [
        "X_processed = numpy_preprocessing(X_train[0:150])\n",
        "for i in range(120,150):\n",
        "  np.max(X_processed[i])\n",
        "  plot(X_processed[i])\n",
        "  plt.show()"
      ],
      "metadata": {
        "colab": {
          "base_uri": "https://localhost:8080/",
          "height": 1000
        },
        "id": "Uy4sOLBecOMW",
        "outputId": "18cd6225-96c2-46f5-aefe-05511eacac35"
      },
      "execution_count": null,
      "outputs": [
        {
          "output_type": "display_data",
          "data": {
            "text/plain": [
              "<Figure size 640x480 with 1 Axes>"
            ],
            "image/png": "[encoded data removed]"
          },
          "metadata": {}
        },
        {
          "output_type": "display_data",
          "data": {
            "text/plain": [
              "<Figure size 640x480 with 1 Axes>"
            ],
            "image/png": "[encoded data removed]"
          },
          "metadata": {}
        },
        {
          "output_type": "display_data",
          "data": {
            "text/plain": [
              "<Figure size 640x480 with 1 Axes>"
            ],
            "image/png": "[encoded data removed]"
          },
          "metadata": {}
        },
        {
          "output_type": "display_data",
          "data": {
            "text/plain": [
              "<Figure size 640x480 with 1 Axes>"
            ],
            "image/png": "[encoded data removed]"
          },
          "metadata": {}
        },
        {
          "output_type": "display_data",
          "data": {
            "text/plain": [
              "<Figure size 640x480 with 1 Axes>"
            ],
            "image/png": "[encoded data removed]"
          },
          "metadata": {}
        },
        {
          "output_type": "display_data",
          "data": {
            "text/plain": [
              "<Figure size 640x480 with 1 Axes>"
            ],
            "image/png": "[encoded data removed]"
          },
          "metadata": {}
        },
        {
          "output_type": "display_data",
          "data": {
            "text/plain": [
              "<Figure size 640x480 with 1 Axes>"
            ],
            "image/png": "[encoded data removed]"
          },
          "metadata": {}
        },
        {
          "output_type": "display_data",
          "data": {
            "text/plain": [
              "<Figure size 640x480 with 1 Axes>"
            ],
            "image/png": "[encoded data removed]"
          },
          "metadata": {}
        },
        {
          "output_type": "display_data",
          "data": {
            "text/plain": [
              "<Figure size 640x480 with 1 Axes>"
            ],
            "image/png": "[encoded data removed]"
          },
          "metadata": {}
        },
        {
          "output_type": "display_data",
          "data": {
            "text/plain": [
              "<Figure size 640x480 with 1 Axes>"
            ],
            "image/png": "[encoded data removed]"
          },
          "metadata": {}
        },
        {
          "output_type": "display_data",
          "data": {
            "text/plain": [
              "<Figure size 640x480 with 1 Axes>"
            ],
            "image/png": "[encoded data removed]"
          },
          "metadata": {}
        },
        {
          "output_type": "display_data",
          "data": {
            "text/plain": [
              "<Figure size 640x480 with 1 Axes>"
            ],
            "image/png": "[encoded data removed]"
          },
          "metadata": {}
        },
        {
          "output_type": "display_data",
          "data": {
            "text/plain": [
              "<Figure size 640x480 with 1 Axes>"
            ],
            "image/png": "[encoded data removed]"
          },
          "metadata": {}
        },
        {
          "output_type": "display_data",
          "data": {
            "text/plain": [
              "<Figure size 640x480 with 1 Axes>"
            ],
            "image/png": "[encoded data removed]"
          },
          "metadata": {}
        },
        {
          "output_type": "display_data",
          "data": {
            "text/plain": [
              "<Figure size 640x480 with 1 Axes>"
            ],
            "image/png": "[encoded data removed]"
          },
          "metadata": {}
        },
        {
          "output_type": "display_data",
          "data": {
            "text/plain": [
              "<Figure size 640x480 with 1 Axes>"
            ],
            "image/png": "[encoded data removed]"
          },
          "metadata": {}
        },
        {
          "output_type": "display_data",
          "data": {
            "text/plain": [
              "<Figure size 640x480 with 1 Axes>"
            ],
            "image/png": "[encoded data removed]"
          },
          "metadata": {}
        },
        {
          "output_type": "display_data",
          "data": {
            "text/plain": [
              "<Figure size 640x480 with 1 Axes>"
            ],
            "image/png": "[encoded data removed]"
          },
          "metadata": {}
        },
        {
          "output_type": "display_data",
          "data": {
            "text/plain": [
              "<Figure size 640x480 with 1 Axes>"
            ],
            "image/png": "[encoded data removed]"
          },
          "metadata": {}
        },
        {
          "output_type": "display_data",
          "data": {
            "text/plain": [
              "<Figure size 640x480 with 1 Axes>"
            ],
            "image/png": "[encoded data removed]"
          },
          "metadata": {}
        },
        {
          "output_type": "display_data",
          "data": {
            "text/plain": [
              "<Figure size 640x480 with 1 Axes>"
            ],
            "image/png": "[encoded data removed]"
          },
          "metadata": {}
        },
        {
          "output_type": "display_data",
          "data": {
            "text/plain": [
              "<Figure size 640x480 with 1 Axes>"
            ],
            "image/png": "[encoded data removed]"
          },
          "metadata": {}
        },
        {
          "output_type": "display_data",
          "data": {
            "text/plain": [
              "<Figure size 640x480 with 1 Axes>"
            ],
            "image/png": "[encoded data removed]"
          },
          "metadata": {}
        },
        {
          "output_type": "display_data",
          "data": {
            "text/plain": [
              "<Figure size 640x480 with 1 Axes>"
            ],
            "image/png": "[encoded data removed]"
          },
          "metadata": {}
        },
        {
          "output_type": "display_data",
          "data": {
            "text/plain": [
              "<Figure size 640x480 with 1 Axes>"
            ],
            "image/png": "[encoded data removed]"
          },
          "metadata": {}
        },
        {
          "output_type": "display_data",
          "data": {
            "text/plain": [
              "<Figure size 640x480 with 1 Axes>"
            ],
            "image/png": "[encoded data removed]"
          },
          "metadata": {}
        },
        {
          "output_type": "display_data",
          "data": {
            "text/plain": [
              "<Figure size 640x480 with 1 Axes>"
            ],
            "image/png": "[encoded data removed]"
          },
          "metadata": {}
        },
        {
          "output_type": "display_data",
          "data": {
            "text/plain": [
              "<Figure size 640x480 with 1 Axes>"
            ],
            "image/png": "[encoded data removed]"
          },
          "metadata": {}
        },
        {
          "output_type": "display_data",
          "data": {
            "text/plain": [
              "<Figure size 640x480 with 1 Axes>"
            ],
            "image/png": "[encoded data removed]"
          },
          "metadata": {}
        },
        {
          "output_type": "display_data",
          "data": {
            "text/plain": [
              "<Figure size 640x480 with 1 Axes>"
            ],
            "image/png": "[encoded data removed]"
          },
          "metadata": {}
        }
      ]
    },
    {
      "cell_type": "code",
      "source": [
        "def tf_preprocessing_wrapper(input_tensor):\n",
        "    # Process the input tensor with the numpy_preprocessing function\n",
        "    processed_tensor = tf.py_function(numpy_preprocessing, [input_tensor], Tout=tf.float32)\n",
        "\n",
        "    # Explicitly set the shape of the processed_tensor to include the channel dimension\n",
        "    input_tensor.set_shape([None, 62, 62, 1])  # Assuming each image is 50x50 with 1 channel\n",
        "\n",
        "    return processed_tensor\n"
      ],
      "metadata": {
        "id": "Q6K3TeM7KIyH"
      },
      "execution_count": null,
      "outputs": []
    },
    {
      "cell_type": "markdown",
      "source": [
        "# model"
      ],
      "metadata": {
        "id": "mM1SluK6yccD"
      }
    },
    {
      "cell_type": "code",
      "source": [
        "model = tf.keras.Sequential([\n",
        "    # tf.keras.layers.Lambda(tf_preprocessing_wrapper),  # Custom preprocessing\n",
        "    # ZeroPadding2D(padding=(3, 3), input_shape=(50, 50, 1)),  # padding=(3, 3) adds 3 rows/columns of zeros on each side\n",
        "\n",
        "    # Convolutional Layer followed by Batch Normalization\n",
        "    tf.keras.layers.Conv2D(64, kernel_size=(3, 3), use_bias=True,  input_shape=(50, 50, 1)),  # Set use_bias=False\n",
        "    # tf.keras.layers.BatchNormalization(),\n",
        "    tf.keras.layers.Activation('relu'),\n",
        "\n",
        "    # Pooling Layer\n",
        "    tf.keras.layers.MaxPooling2D(pool_size=(2, 2)),\n",
        "\n",
        "    tf.keras.layers.Conv2D(128, kernel_size=(5, 5), use_bias=True),  # Set use_bias=False\n",
        "    tf.keras.layers.BatchNormalization(),\n",
        "    tf.keras.layers.Activation('relu'),\n",
        "\n",
        "    # Pooling Layer\n",
        "    tf.keras.layers.MaxPooling2D(pool_size=(2, 2)),\n",
        "    Dropout(0.2),\n",
        "\n",
        "    # tf.keras.layers.Conv2D(64, kernel_size=(5, 5), use_bias=True),  # Set use_bias=False\n",
        "    # tf.keras.layers.BatchNormalization(),\n",
        "    # tf.keras.layers.Activation('relu'),\n",
        "\n",
        "    # # Pooling Layer\n",
        "    # tf.keras.layers.MaxPooling2D(pool_size=(2, 2)),\n",
        "    # Dropout(0.2),\n",
        "    # Flatten the output for the Dense layers\n",
        "    tf.keras.layers.Flatten(),\n",
        "\n",
        "    # # Dense Layer followed by Batch Normalization\n",
        "    # tf.keras.layers.Dense(128, use_bias=True, kernel_regularizer=l2(0.01)),  # Set use_bias=False\n",
        "    # tf.keras.layers.BatchNormalization(),\n",
        "    # tf.keras.layers.Activation('relu'),\n",
        "    # Dropout(0.2),\n",
        "\n",
        "    # Dense Layer followed by Batch Normalization\n",
        "    tf.keras.layers.Dense(64, use_bias=True, kernel_regularizer=l2(0.01)),  # Set use_bias=False\n",
        "    tf.keras.layers.BatchNormalization(),\n",
        "    tf.keras.layers.Activation('relu'),\n",
        "    Dropout(0.2),\n",
        "\n",
        "        # Dense Layer followed by Batch Normalization\n",
        "    tf.keras.layers.Dense(32, use_bias=True, kernel_regularizer=l2(0.01)),  # Set use_bias=False\n",
        "    tf.keras.layers.BatchNormalization(),\n",
        "    tf.keras.layers.Activation('relu'),\n",
        "    Dropout(0.2),\n",
        "    # Output Layer\n",
        "    tf.keras.layers.Dense(5, activation='softmax') # Adjust according to your task\n",
        "])\n",
        "\n",
        "# # Compile the model\n",
        "# model.compile(optimizer='adam', loss='mean_squared_error', metrics=['accuracy'])\n"
      ],
      "metadata": {
        "id": "aJXrFsCl4BX-"
      },
      "execution_count": 306,
      "outputs": []
    },
    {
      "cell_type": "code",
      "source": [
        "# Define the optimizer with a specific learning rate\n",
        "optimizer = Adam(learning_rate=0.00001) # Set your desired learning rate\n",
        "\n",
        "model.compile(optimizer=optimizer, loss='sparse_categorical_crossentropy', metrics=['accuracy'])\n"
      ],
      "metadata": {
        "id": "yDRCzSXE49B7"
      },
      "execution_count": 333,
      "outputs": []
    },
    {
      "cell_type": "code",
      "source": [
        "# 3. Train the Model\n",
        "num_epochs=5\n",
        "history= model.fit(X_train, y_train, epochs=num_epochs, batch_size=64, validation_split=0.2)\n"
      ],
      "metadata": {
        "colab": {
          "base_uri": "https://localhost:8080/"
        },
        "id": "245NHlHx4_XU",
        "outputId": "730be123-a8e8-44e4-c1a2-86c9991f7808"
      },
      "execution_count": 353,
      "outputs": [
        {
          "output_type": "stream",
          "name": "stdout",
          "text": [
            "Epoch 1/5\n",
            "99/99 [==============================] - 4s 18ms/step - loss: 0.0317 - accuracy: 0.9997 - val_loss: 0.0283 - val_accuracy: 1.0000\n",
            "Epoch 2/5\n",
            "99/99 [==============================] - 2s 17ms/step - loss: 0.0299 - accuracy: 1.0000 - val_loss: 0.0274 - val_accuracy: 1.0000\n",
            "Epoch 3/5\n",
            "99/99 [==============================] - 2s 17ms/step - loss: 0.0293 - accuracy: 0.9994 - val_loss: 0.0267 - val_accuracy: 1.0000\n",
            "Epoch 4/5\n",
            "99/99 [==============================] - 2s 17ms/step - loss: 0.0284 - accuracy: 0.9995 - val_loss: 0.0254 - val_accuracy: 1.0000\n",
            "Epoch 5/5\n",
            "99/99 [==============================] - 2s 16ms/step - loss: 0.0275 - accuracy: 0.9994 - val_loss: 0.0247 - val_accuracy: 1.0000\n"
          ]
        }
      ]
    },
    {
      "cell_type": "code",
      "source": [
        "# 3. Train the Model with aug data\n",
        "num_epochs=\n",
        "history= model.fit(X_train_augmented, y_train_augmented, epochs=num_epochs, batch_size=64, validation_split=0.2)"
      ],
      "metadata": {
        "colab": {
          "base_uri": "https://localhost:8080/"
        },
        "id": "-rhazCdVTuVx",
        "outputId": "d98e5ade-d1c1-43ce-bfb4-1bd88db8986a"
      },
      "execution_count": 344,
      "outputs": [
        {
          "output_type": "stream",
          "name": "stdout",
          "text": [
            "Epoch 1/10\n",
            "107/107 [==============================] - 2s 15ms/step - loss: 0.0628 - accuracy: 0.9990 - val_loss: 0.0838 - val_accuracy: 0.9976\n",
            "Epoch 2/10\n",
            "107/107 [==============================] - 2s 15ms/step - loss: 0.0606 - accuracy: 0.9994 - val_loss: 0.0832 - val_accuracy: 0.9976\n",
            "Epoch 3/10\n",
            "107/107 [==============================] - 2s 16ms/step - loss: 0.0600 - accuracy: 0.9991 - val_loss: 0.0829 - val_accuracy: 0.9976\n",
            "Epoch 4/10\n",
            "107/107 [==============================] - 2s 17ms/step - loss: 0.0581 - accuracy: 0.9999 - val_loss: 0.0819 - val_accuracy: 0.9976\n",
            "Epoch 5/10\n",
            "107/107 [==============================] - 2s 17ms/step - loss: 0.0578 - accuracy: 0.9997 - val_loss: 0.0812 - val_accuracy: 0.9976\n",
            "Epoch 6/10\n",
            "107/107 [==============================] - 2s 17ms/step - loss: 0.0568 - accuracy: 0.9996 - val_loss: 0.0798 - val_accuracy: 0.9976\n",
            "Epoch 7/10\n",
            "107/107 [==============================] - 2s 14ms/step - loss: 0.0572 - accuracy: 0.9985 - val_loss: 0.0796 - val_accuracy: 0.9976\n",
            "Epoch 8/10\n",
            "107/107 [==============================] - 2s 14ms/step - loss: 0.0565 - accuracy: 0.9991 - val_loss: 0.0790 - val_accuracy: 0.9976\n",
            "Epoch 9/10\n",
            "107/107 [==============================] - 2s 14ms/step - loss: 0.0545 - accuracy: 0.9999 - val_loss: 0.0779 - val_accuracy: 0.9976\n",
            "Epoch 10/10\n",
            "107/107 [==============================] - 2s 15ms/step - loss: 0.0533 - accuracy: 0.9996 - val_loss: 0.0771 - val_accuracy: 0.9976\n"
          ]
        }
      ]
    },
    {
      "cell_type": "code",
      "source": [
        "pred = model.predict(X_test).argmax(axis=1)\n",
        "print('Accuracy on test set - {0:.02%}'.format((pred == y_test).mean()))\n",
        "true_classes = y_test"
      ],
      "metadata": {
        "colab": {
          "base_uri": "https://localhost:8080/"
        },
        "id": "HrLldn92pP_O",
        "outputId": "011b9148-838a-41d7-d373-ecea1e51ab9c"
      },
      "execution_count": 313,
      "outputs": [
        {
          "output_type": "stream",
          "name": "stdout",
          "text": [
            "62/62 [==============================] - 0s 4ms/step\n",
            "Accuracy on test set - 97.47%\n"
          ]
        }
      ]
    },
    {
      "cell_type": "code",
      "source": [
        "pred = model.predict(X).argmax(axis=1)\n",
        "print('Accuracy entire set - {0:.02%}'.format((pred == y).mean()))\n",
        "true_classes = y\n"
      ],
      "metadata": {
        "colab": {
          "base_uri": "https://localhost:8080/"
        },
        "id": "rJiHv_T5aWrV",
        "outputId": "3b1f8d0e-d606-4cb0-8763-a1e0369d5773"
      },
      "execution_count": 354,
      "outputs": [
        {
          "output_type": "stream",
          "name": "stdout",
          "text": [
            "309/309 [==============================] - 1s 4ms/step\n",
            "Accuracy entire set - 100.00%\n"
          ]
        }
      ]
    },
    {
      "cell_type": "code",
      "source": [
        "  # Use directly if y_test is already integer labels\n",
        "\n",
        "\n",
        "# Create the confusion matrix\n",
        "cm = confusion_matrix(true_classes, pred)\n",
        "\n",
        "# Plotting the confusion matrix\n",
        "plt.figure(figsize=(10, 8))\n",
        "sns.heatmap(cm, annot=True, fmt='d', cmap='Blues')\n",
        "plt.xlabel('Predicted')\n",
        "plt.ylabel('True')\n",
        "plt.title('Confusion Matrix')\n",
        "plt.show()"
      ],
      "metadata": {
        "colab": {
          "base_uri": "https://localhost:8080/",
          "height": 718
        },
        "id": "cPHU2-Qst_rJ",
        "outputId": "295e59f0-af2a-41a5-c9ee-c53c32faa3c2"
      },
      "execution_count": 355,
      "outputs": [
        {
          "output_type": "display_data",
          "data": {
            "text/plain": [
              "<Figure size 1000x800 with 2 Axes>"
            ],
            "image/png": "[encoded data removed]"
          },
          "metadata": {}
        }
      ]
    },
    {
      "cell_type": "code",
      "source": [
        "misclassified_indices = np.where(pred != true_classes)[0]\n",
        "misclassified_indices.shape"
      ],
      "metadata": {
        "colab": {
          "base_uri": "https://localhost:8080/"
        },
        "id": "IvHuk-apdIOg",
        "outputId": "667ee082-9817-4fe1-ce27-36bbc3ba70f9"
      },
      "execution_count": 176,
      "outputs": [
        {
          "output_type": "execute_result",
          "data": {
            "text/plain": [
              "(52,)"
            ]
          },
          "metadata": {},
          "execution_count": 176
        }
      ]
    },
    {
      "cell_type": "markdown",
      "source": [
        "for finding misslabelings"
      ],
      "metadata": {
        "id": "nUBLp0nLQtBM"
      }
    },
    {
      "cell_type": "code",
      "source": [
        "def bad_shapes(k):\n",
        "  bad=[]\n",
        "  for i in misclassified_indices:\n",
        "    if pred[i] == k:\n",
        "      bad.append(i)\n",
        "\n",
        "  print(bad)"
      ],
      "metadata": {
        "id": "98yGNt34jZbS"
      },
      "execution_count": 123,
      "outputs": []
    },
    {
      "cell_type": "code",
      "source": [
        "bad_shapes(1)"
      ],
      "metadata": {
        "colab": {
          "base_uri": "https://localhost:8080/"
        },
        "id": "ubbOmKArmU_q",
        "outputId": "f5586d5e-86f9-4511-b11d-231022b5f2b3"
      },
      "execution_count": 300,
      "outputs": [
        {
          "output_type": "stream",
          "name": "stdout",
          "text": [
            "[597, 1238, 1403, 1442, 1474, 2105, 2345, 2676, 2978, 3431, 3798, 3988, 4063, 4115, 4243, 4484, 4659, 4816, 4980, 5056, 5083, 5130, 5571, 5909, 6222, 6670, 6679, 6942, 7107, 7220, 7806, 7956, 8613, 8724, 9566, 9664]\n"
          ]
        }
      ]
    },
    {
      "cell_type": "code",
      "source": [
        "misclassified_indices = np.where(pred != true_classes)[0]\n",
        "# Define the number of images you want to display\n",
        "# Set the number of subplots you want\n",
        "# Number of columns\n",
        "num_columns = 8\n",
        "\n",
        "# Calculate the number of rows needed\n",
        "num_rows = math.ceil(len(misclassified_indices) / num_columns)\n",
        "\n",
        "# Create a figure with the calculated number of rows and columns\n",
        "plt.figure(figsize=(20, 3 * num_rows))\n",
        "\n",
        "# Loop over the elements in misclassified_indices\n",
        "for idx, i in enumerate(misclassified_indices):\n",
        "    # Calculate the position of the current subplot\n",
        "    row = idx // num_columns + 1\n",
        "    col = idx % num_columns + 1\n",
        "\n",
        "    # Create a subplot at the calculated position\n",
        "    if pred[i] == 1:\n",
        "      plt.subplot(num_rows, num_columns, row * num_columns - num_columns + col)\n",
        "      plt.imshow(X[i])  # plot the image at index i\n",
        "      plt.title(f\"Label: {y[i]}|{pred[i]}\\nIndex: {i}\")\n",
        "      plt.axis('off')  # turn off axis\n",
        "\n",
        "plt.tight_layout()\n",
        "plt.show()\n",
        "\n",
        "\n"
      ],
      "metadata": {
        "colab": {
          "base_uri": "https://localhost:8080/",
          "height": 279
        },
        "id": "aG9My1TGPE3l",
        "outputId": "4baf8bbe-2336-4bf2-cac1-29a33e1bf6e8"
      },
      "execution_count": 340,
      "outputs": [
        {
          "output_type": "display_data",
          "data": {
            "text/plain": [
              "<Figure size 2000x300 with 2 Axes>"
            ],
            "image/png": "[encoded data removed]"
          },
          "metadata": {}
        }
      ]
    },
    {
      "cell_type": "code",
      "source": [
        "# Assuming 'model' is your Keras model\n",
        "model.save('my_model_28.h5')"
      ],
      "metadata": {
        "id": "HvA0ld7L0ECS",
        "colab": {
          "base_uri": "https://localhost:8080/"
        },
        "outputId": "6b205ab2-85e7-4b17-f98c-26e46162d1f2"
      },
      "execution_count": 356,
      "outputs": [
        {
          "output_type": "stream",
          "name": "stderr",
          "text": [
            "/usr/local/lib/python3.10/dist-packages/keras/src/engine/training.py:3079: UserWarning: You are saving your model as an HDF5 file via `model.save()`. This file format is considered legacy. We recommend using instead the native Keras format, e.g. `model.save('my_model.keras')`.\n",
            "  saving_api.save_model(\n"
          ]
        }
      ]
    }
  ]
}